{
  "nbformat": 4,
  "nbformat_minor": 0,
  "metadata": {
    "colab": {
      "provenance": [],
      "authorship_tag": "ABX9TyM0ZQHj08R48jDQkgjjOF8J",
      "include_colab_link": true
    },
    "kernelspec": {
      "name": "python3",
      "display_name": "Python 3"
    },
    "language_info": {
      "name": "python"
    }
  },
  "cells": [
    {
      "cell_type": "markdown",
      "metadata": {
        "id": "view-in-github",
        "colab_type": "text"
      },
      "source": [
        "<a href=\"https://colab.research.google.com/github/pourmand1376/Notebooks/blob/main/UploadYoutubeSubtitledVideosToKaggle.ipynb\" target=\"_parent\"><img src=\"https://colab.research.google.com/assets/colab-badge.svg\" alt=\"Open In Colab\"/></a>"
      ]
    },
    {
      "cell_type": "code",
      "source": [
        "!pip install youtube-transcript-api\n",
        "!pip install pytube"
      ],
      "metadata": {
        "colab": {
          "base_uri": "https://localhost:8080/"
        },
        "id": "8WWBzVchFhsS",
        "outputId": "5a4f211f-6fca-4215-fbe4-4c45bc672a51"
      },
      "execution_count": 1,
      "outputs": [
        {
          "output_type": "stream",
          "name": "stdout",
          "text": [
            "Collecting youtube-transcript-api\n",
            "  Downloading youtube_transcript_api-0.6.2-py3-none-any.whl (24 kB)\n",
            "Requirement already satisfied: requests in /usr/local/lib/python3.10/dist-packages (from youtube-transcript-api) (2.31.0)\n",
            "Requirement already satisfied: charset-normalizer<4,>=2 in /usr/local/lib/python3.10/dist-packages (from requests->youtube-transcript-api) (3.3.2)\n",
            "Requirement already satisfied: idna<4,>=2.5 in /usr/local/lib/python3.10/dist-packages (from requests->youtube-transcript-api) (3.6)\n",
            "Requirement already satisfied: urllib3<3,>=1.21.1 in /usr/local/lib/python3.10/dist-packages (from requests->youtube-transcript-api) (2.0.7)\n",
            "Requirement already satisfied: certifi>=2017.4.17 in /usr/local/lib/python3.10/dist-packages (from requests->youtube-transcript-api) (2024.2.2)\n",
            "Installing collected packages: youtube-transcript-api\n",
            "Successfully installed youtube-transcript-api-0.6.2\n",
            "Collecting pytube\n",
            "  Downloading pytube-15.0.0-py3-none-any.whl (57 kB)\n",
            "\u001b[2K     \u001b[90m━━━━━━━━━━━━━━━━━━━━━━━━━━━━━━━━━━━━━━━━\u001b[0m \u001b[32m57.6/57.6 kB\u001b[0m \u001b[31m1.5 MB/s\u001b[0m eta \u001b[36m0:00:00\u001b[0m\n",
            "\u001b[?25hInstalling collected packages: pytube\n",
            "Successfully installed pytube-15.0.0\n"
          ]
        }
      ]
    },
    {
      "cell_type": "code",
      "execution_count": 18,
      "metadata": {
        "id": "APvQ4H_qFZbP",
        "colab": {
          "base_uri": "https://localhost:8080/",
          "height": 74
        },
        "outputId": "44950551-c550-4e14-96df-09fef0a2991f"
      },
      "outputs": [
        {
          "output_type": "stream",
          "name": "stdout",
          "text": [
            "MONLMhmtlKU Persian fa False True [{'language': 'Afrikaans', 'language_code': 'af'}, {'language': 'Akan', 'language_code': 'ak'}, {'language': 'Albanian', 'language_code': 'sq'}, {'language': 'Amharic', 'language_code': 'am'}, {'language': 'Arabic', 'language_code': 'ar'}, {'language': 'Armenian', 'language_code': 'hy'}, {'language': 'Assamese', 'language_code': 'as'}, {'language': 'Aymara', 'language_code': 'ay'}, {'language': 'Azerbaijani', 'language_code': 'az'}, {'language': 'Bangla', 'language_code': 'bn'}, {'language': 'Basque', 'language_code': 'eu'}, {'language': 'Belarusian', 'language_code': 'be'}, {'language': 'Bhojpuri', 'language_code': 'bho'}, {'language': 'Bosnian', 'language_code': 'bs'}, {'language': 'Bulgarian', 'language_code': 'bg'}, {'language': 'Burmese', 'language_code': 'my'}, {'language': 'Catalan', 'language_code': 'ca'}, {'language': 'Cebuano', 'language_code': 'ceb'}, {'language': 'Chinese (Simplified)', 'language_code': 'zh-Hans'}, {'language': 'Chinese (Traditional)', 'language_code': 'zh-Hant'}, {'language': 'Corsican', 'language_code': 'co'}, {'language': 'Croatian', 'language_code': 'hr'}, {'language': 'Czech', 'language_code': 'cs'}, {'language': 'Danish', 'language_code': 'da'}, {'language': 'Divehi', 'language_code': 'dv'}, {'language': 'Dutch', 'language_code': 'nl'}, {'language': 'English', 'language_code': 'en'}, {'language': 'Esperanto', 'language_code': 'eo'}, {'language': 'Estonian', 'language_code': 'et'}, {'language': 'Ewe', 'language_code': 'ee'}, {'language': 'Filipino', 'language_code': 'fil'}, {'language': 'Finnish', 'language_code': 'fi'}, {'language': 'French', 'language_code': 'fr'}, {'language': 'Galician', 'language_code': 'gl'}, {'language': 'Ganda', 'language_code': 'lg'}, {'language': 'Georgian', 'language_code': 'ka'}, {'language': 'German', 'language_code': 'de'}, {'language': 'Greek', 'language_code': 'el'}, {'language': 'Guarani', 'language_code': 'gn'}, {'language': 'Gujarati', 'language_code': 'gu'}, {'language': 'Haitian Creole', 'language_code': 'ht'}, {'language': 'Hausa', 'language_code': 'ha'}, {'language': 'Hawaiian', 'language_code': 'haw'}, {'language': 'Hebrew', 'language_code': 'iw'}, {'language': 'Hindi', 'language_code': 'hi'}, {'language': 'Hmong', 'language_code': 'hmn'}, {'language': 'Hungarian', 'language_code': 'hu'}, {'language': 'Icelandic', 'language_code': 'is'}, {'language': 'Igbo', 'language_code': 'ig'}, {'language': 'Indonesian', 'language_code': 'id'}, {'language': 'Irish', 'language_code': 'ga'}, {'language': 'Italian', 'language_code': 'it'}, {'language': 'Japanese', 'language_code': 'ja'}, {'language': 'Javanese', 'language_code': 'jv'}, {'language': 'Kannada', 'language_code': 'kn'}, {'language': 'Kazakh', 'language_code': 'kk'}, {'language': 'Khmer', 'language_code': 'km'}, {'language': 'Kinyarwanda', 'language_code': 'rw'}, {'language': 'Korean', 'language_code': 'ko'}, {'language': 'Krio', 'language_code': 'kri'}, {'language': 'Kurdish', 'language_code': 'ku'}, {'language': 'Kyrgyz', 'language_code': 'ky'}, {'language': 'Lao', 'language_code': 'lo'}, {'language': 'Latin', 'language_code': 'la'}, {'language': 'Latvian', 'language_code': 'lv'}, {'language': 'Lingala', 'language_code': 'ln'}, {'language': 'Lithuanian', 'language_code': 'lt'}, {'language': 'Luxembourgish', 'language_code': 'lb'}, {'language': 'Macedonian', 'language_code': 'mk'}, {'language': 'Malagasy', 'language_code': 'mg'}, {'language': 'Malay', 'language_code': 'ms'}, {'language': 'Malayalam', 'language_code': 'ml'}, {'language': 'Maltese', 'language_code': 'mt'}, {'language': 'Māori', 'language_code': 'mi'}, {'language': 'Marathi', 'language_code': 'mr'}, {'language': 'Mongolian', 'language_code': 'mn'}, {'language': 'Nepali', 'language_code': 'ne'}, {'language': 'Northern Sotho', 'language_code': 'nso'}, {'language': 'Norwegian', 'language_code': 'no'}, {'language': 'Nyanja', 'language_code': 'ny'}, {'language': 'Odia', 'language_code': 'or'}, {'language': 'Oromo', 'language_code': 'om'}, {'language': 'Pashto', 'language_code': 'ps'}, {'language': 'Persian', 'language_code': 'fa'}, {'language': 'Polish', 'language_code': 'pl'}, {'language': 'Portuguese', 'language_code': 'pt'}, {'language': 'Punjabi', 'language_code': 'pa'}, {'language': 'Quechua', 'language_code': 'qu'}, {'language': 'Romanian', 'language_code': 'ro'}, {'language': 'Russian', 'language_code': 'ru'}, {'language': 'Samoan', 'language_code': 'sm'}, {'language': 'Sanskrit', 'language_code': 'sa'}, {'language': 'Scottish Gaelic', 'language_code': 'gd'}, {'language': 'Serbian', 'language_code': 'sr'}, {'language': 'Shona', 'language_code': 'sn'}, {'language': 'Sindhi', 'language_code': 'sd'}, {'language': 'Sinhala', 'language_code': 'si'}, {'language': 'Slovak', 'language_code': 'sk'}, {'language': 'Slovenian', 'language_code': 'sl'}, {'language': 'Somali', 'language_code': 'so'}, {'language': 'Southern Sotho', 'language_code': 'st'}, {'language': 'Spanish', 'language_code': 'es'}, {'language': 'Sundanese', 'language_code': 'su'}, {'language': 'Swahili', 'language_code': 'sw'}, {'language': 'Swedish', 'language_code': 'sv'}, {'language': 'Tajik', 'language_code': 'tg'}, {'language': 'Tamil', 'language_code': 'ta'}, {'language': 'Tatar', 'language_code': 'tt'}, {'language': 'Telugu', 'language_code': 'te'}, {'language': 'Thai', 'language_code': 'th'}, {'language': 'Tigrinya', 'language_code': 'ti'}, {'language': 'Tsonga', 'language_code': 'ts'}, {'language': 'Turkish', 'language_code': 'tr'}, {'language': 'Turkmen', 'language_code': 'tk'}, {'language': 'Ukrainian', 'language_code': 'uk'}, {'language': 'Urdu', 'language_code': 'ur'}, {'language': 'Uyghur', 'language_code': 'ug'}, {'language': 'Uzbek', 'language_code': 'uz'}, {'language': 'Vietnamese', 'language_code': 'vi'}, {'language': 'Welsh', 'language_code': 'cy'}, {'language': 'Western Frisian', 'language_code': 'fy'}, {'language': 'Xhosa', 'language_code': 'xh'}, {'language': 'Yiddish', 'language_code': 'yi'}, {'language': 'Yoruba', 'language_code': 'yo'}, {'language': 'Zulu', 'language_code': 'zu'}]\n"
          ]
        },
        {
          "output_type": "execute_result",
          "data": {
            "text/plain": [
              "'/content/test/MONLMhmtlKU.mp4'"
            ],
            "application/vnd.google.colaboratory.intrinsic+json": {
              "type": "string"
            }
          },
          "metadata": {},
          "execution_count": 18
        }
      ],
      "source": [
        "\n",
        "from youtube_transcript_api import YouTubeTranscriptApi\n",
        "video_id = 'oa8_Sd7w0q8'\n",
        "video_id = 'MONLMhmtlKU'\n",
        "transcript_list = YouTubeTranscriptApi.list_transcripts(video_id)\n",
        "\n",
        "transcript = transcript_list.find_manually_created_transcript(['fa','fa-IR'])\n",
        "print(\n",
        "    transcript.video_id,\n",
        "    transcript.language,\n",
        "    transcript.language_code,\n",
        "    # whether it has been manually created or generated by YouTube\n",
        "    transcript.is_generated,\n",
        "    # whether this transcript can be translated or not\n",
        "    transcript.is_translatable,\n",
        "    # a list of languages the transcript can be translated to\n",
        "    transcript.translation_languages,\n",
        ")\n",
        "video_transcription=transcript.fetch()\n",
        "\n",
        "from pytube import YouTube\n",
        "video = YouTube(f'https://www.youtube.com/watch?v={video_id}')\n",
        "video.streams.filter(only_audio=True)[0].download(f'test/',filename=f'{video_id}.mp4')\n"
      ]
    },
    {
      "cell_type": "code",
      "source": [
        "video.channel_url"
      ],
      "metadata": {
        "colab": {
          "base_uri": "https://localhost:8080/",
          "height": 35
        },
        "id": "uUEdLO_mlBmh",
        "outputId": "60bd9dc1-1273-46ce-ff83-6b7d3e180d35"
      },
      "execution_count": 3,
      "outputs": [
        {
          "output_type": "execute_result",
          "data": {
            "text/plain": [
              "'https://www.youtube.com/channel/UC8zvy-GRqvlxHGIJ64iDejA'"
            ],
            "application/vnd.google.colaboratory.intrinsic+json": {
              "type": "string"
            }
          },
          "metadata": {},
          "execution_count": 3
        }
      ]
    },
    {
      "cell_type": "code",
      "source": [
        "!ls -alh oa8_Sd7w0q8"
      ],
      "metadata": {
        "colab": {
          "base_uri": "https://localhost:8080/"
        },
        "id": "EyEdrYbuFoSe",
        "outputId": "974f8d65-b11e-43dc-a85d-8692af1db220"
      },
      "execution_count": 4,
      "outputs": [
        {
          "output_type": "stream",
          "name": "stdout",
          "text": [
            "ls: cannot access 'oa8_Sd7w0q8': No such file or directory\n"
          ]
        }
      ]
    },
    {
      "cell_type": "code",
      "source": [
        "# go to youtube\n",
        "# search for some video then filter by subtitle, hold down PageDown key until finish!\n",
        "#words سریال\n",
        "# https://www.youtube.com/results?search_query=%D8%B3%D8%B1%DB%8C%D8%A7%D9%84&sp=EgIoAQ%253D%253D\n",
        "# then use this script on console\n",
        "# Array.from(document.querySelectorAll('a')).map((item) => item.href).filter((item) => item.startsWith('https://www.youtube.com/watch'))\n",
        "# and save the result into a file and paste it into subtitle.text file"
      ],
      "metadata": {
        "id": "bsMDG_T4dxTg"
      },
      "execution_count": null,
      "outputs": []
    },
    {
      "cell_type": "code",
      "source": [
        "# https://www.youtube.com/@manivest_ir/videos\n",
        "# https://www.youtube.com/@BplusPodcast/videos"
      ],
      "metadata": {
        "id": "R0lpFEjIru2g"
      },
      "execution_count": null,
      "outputs": []
    },
    {
      "cell_type": "code",
      "source": [
        "pip install kaggle"
      ],
      "metadata": {
        "colab": {
          "base_uri": "https://localhost:8080/"
        },
        "id": "4-HD21WloP9p",
        "outputId": "7a44535a-baf6-49f4-87c1-72f8045ae97e"
      },
      "execution_count": 5,
      "outputs": [
        {
          "output_type": "stream",
          "name": "stdout",
          "text": [
            "Requirement already satisfied: kaggle in /usr/local/lib/python3.10/dist-packages (1.5.16)\n",
            "Requirement already satisfied: six>=1.10 in /usr/local/lib/python3.10/dist-packages (from kaggle) (1.16.0)\n",
            "Requirement already satisfied: certifi in /usr/local/lib/python3.10/dist-packages (from kaggle) (2024.2.2)\n",
            "Requirement already satisfied: python-dateutil in /usr/local/lib/python3.10/dist-packages (from kaggle) (2.8.2)\n",
            "Requirement already satisfied: requests in /usr/local/lib/python3.10/dist-packages (from kaggle) (2.31.0)\n",
            "Requirement already satisfied: tqdm in /usr/local/lib/python3.10/dist-packages (from kaggle) (4.66.1)\n",
            "Requirement already satisfied: python-slugify in /usr/local/lib/python3.10/dist-packages (from kaggle) (8.0.3)\n",
            "Requirement already satisfied: urllib3 in /usr/local/lib/python3.10/dist-packages (from kaggle) (2.0.7)\n",
            "Requirement already satisfied: bleach in /usr/local/lib/python3.10/dist-packages (from kaggle) (6.1.0)\n",
            "Requirement already satisfied: webencodings in /usr/local/lib/python3.10/dist-packages (from bleach->kaggle) (0.5.1)\n",
            "Requirement already satisfied: text-unidecode>=1.3 in /usr/local/lib/python3.10/dist-packages (from python-slugify->kaggle) (1.3)\n",
            "Requirement already satisfied: charset-normalizer<4,>=2 in /usr/local/lib/python3.10/dist-packages (from requests->kaggle) (3.3.2)\n",
            "Requirement already satisfied: idna<4,>=2.5 in /usr/local/lib/python3.10/dist-packages (from requests->kaggle) (3.6)\n"
          ]
        }
      ]
    },
    {
      "cell_type": "code",
      "source": [
        "!mkdir /root/.kaggle\n",
        "!echo '{\"username\":\"amirpourmand\",\"key\":\"my_key\"}' > /root/.kaggle/kaggle.json\n",
        "!chmod 600 /root/.kaggle/kaggle.json"
      ],
      "metadata": {
        "id": "PdIv9LvKK5Hn"
      },
      "execution_count": 6,
      "outputs": []
    },
    {
      "cell_type": "code",
      "source": [
        "!kaggle datasets download amirpourmand/automatic-speech-recognition-farsi-youtube"
      ],
      "metadata": {
        "colab": {
          "base_uri": "https://localhost:8080/"
        },
        "id": "J2_Gk84K2E2O",
        "outputId": "4985ea96-3840-4ffe-ed88-016272489c25"
      },
      "execution_count": 7,
      "outputs": [
        {
          "output_type": "stream",
          "name": "stdout",
          "text": [
            "Downloading automatic-speech-recognition-farsi-youtube.zip to /content\n",
            "100% 6.52G/6.54G [01:16<00:00, 29.1MB/s]\n",
            "100% 6.54G/6.54G [01:16<00:00, 91.5MB/s]\n"
          ]
        }
      ]
    },
    {
      "cell_type": "code",
      "source": [
        "!unzip -n automatic-speech-recognition-farsi-youtube.zip -d kaggle/"
      ],
      "metadata": {
        "id": "c0js_rTw2WX0"
      },
      "execution_count": 17,
      "outputs": []
    },
    {
      "cell_type": "code",
      "source": [
        "from pytube import Channel\n",
        "from pytube import YouTube"
      ],
      "metadata": {
        "id": "DzynyZW5EStt"
      },
      "execution_count": 9,
      "outputs": []
    },
    {
      "cell_type": "code",
      "source": [
        "pip install scrapetube"
      ],
      "metadata": {
        "colab": {
          "base_uri": "https://localhost:8080/"
        },
        "id": "imWgqb36EVGv",
        "outputId": "a742e402-3383-447f-e014-67469c2d2c9c"
      },
      "execution_count": 10,
      "outputs": [
        {
          "output_type": "stream",
          "name": "stdout",
          "text": [
            "Collecting scrapetube\n",
            "  Downloading scrapetube-2.5.1-py3-none-any.whl (5.6 kB)\n",
            "Requirement already satisfied: requests in /usr/local/lib/python3.10/dist-packages (from scrapetube) (2.31.0)\n",
            "Requirement already satisfied: typing-extensions in /usr/local/lib/python3.10/dist-packages (from scrapetube) (4.9.0)\n",
            "Requirement already satisfied: charset-normalizer<4,>=2 in /usr/local/lib/python3.10/dist-packages (from requests->scrapetube) (3.3.2)\n",
            "Requirement already satisfied: idna<4,>=2.5 in /usr/local/lib/python3.10/dist-packages (from requests->scrapetube) (3.6)\n",
            "Requirement already satisfied: urllib3<3,>=1.21.1 in /usr/local/lib/python3.10/dist-packages (from requests->scrapetube) (2.0.7)\n",
            "Requirement already satisfied: certifi>=2017.4.17 in /usr/local/lib/python3.10/dist-packages (from requests->scrapetube) (2024.2.2)\n",
            "Installing collected packages: scrapetube\n",
            "Successfully installed scrapetube-2.5.1\n"
          ]
        }
      ]
    },
    {
      "cell_type": "code",
      "source": [
        "# pip install lingua-language-detector\n"
      ],
      "metadata": {
        "id": "nk5_-qHpdYtS",
        "colab": {
          "base_uri": "https://localhost:8080/"
        },
        "outputId": "6afd53b4-9fd3-4c1b-c19a-0f5241064e43"
      },
      "execution_count": null,
      "outputs": [
        {
          "output_type": "stream",
          "name": "stdout",
          "text": [
            "Collecting lingua-language-detector\n",
            "  Downloading lingua_language_detector-2.0.2-cp310-cp310-manylinux_2_17_x86_64.manylinux2014_x86_64.whl (74.7 MB)\n",
            "\u001b[2K     \u001b[90m━━━━━━━━━━━━━━━━━━━━━━━━━━━━━━━━━━━━━━━━\u001b[0m \u001b[32m74.7/74.7 MB\u001b[0m \u001b[31m8.6 MB/s\u001b[0m eta \u001b[36m0:00:00\u001b[0m\n",
            "\u001b[?25hInstalling collected packages: lingua-language-detector\n",
            "Successfully installed lingua-language-detector-2.0.2\n"
          ]
        }
      ]
    },
    {
      "cell_type": "code",
      "source": [],
      "metadata": {
        "id": "RaQT19ZueZZx"
      },
      "execution_count": null,
      "outputs": []
    },
    {
      "cell_type": "code",
      "source": [
        "# from lingua import Language, LanguageDetectorBuilder\n",
        "\n",
        "# detector=LanguageDetectorBuilder.from_all_languages().with_preloaded_language_models().build()\n",
        "# detector.compute_language_confidence('سلام خوبی؟', Language.PERSIAN)"
      ],
      "metadata": {
        "id": "K9ZTkgUudXUD"
      },
      "execution_count": 12,
      "outputs": []
    },
    {
      "cell_type": "code",
      "source": [
        "import scrapetube\n",
        "from tqdm import tqdm\n",
        "video_ids = []\n",
        "video_sample = ['https://www.youtube.com/watch?v=4KjAVCAQde0', #https://www.youtube.com/@BplusPodcast/videos\n",
        "'https://www.youtube.com/watch?v=VLJFbYnZXhA', #https://www.youtube.com/@manivest_ir/videos\n",
        "'https://www.youtube.com/watch?v=FqZ_phnySEE', #https://www.youtube.com/@Arantik/videos\n",
        "'https://www.youtube.com/watch?v=wteQsFcp6Yg', #https://www.youtube.com/@rokhpodcast/videos\n",
        "'https://www.youtube.com/watch?v=Lut1y-iRyEc',#https://www.youtube.com/@movarekhpodcast/videos\n",
        "                'https://www.youtube.com/watch?v=ffPiZ5EQPus&t=7s',#https://www.youtube.com/@channelbpodcast/videos\n",
        "                'https://www.youtube.com/watch?v=Bb9sIj-ibHQ',#https://www.youtube.com/@Chronosfarsi/videos\n",
        "           #     'https://www.youtube.com/watch?v=8v46IwVtT0k',#https://www.youtube.com/@MBCPERSIA/videos\n",
        "'https://www.youtube.com/watch?v=hLKHK1gWmK8',                #https://www.youtube.com/@ehsanmansoori\n",
        "'https://www.youtube.com/watch?v=DY2VrmLQ9Us', #- https://www.youtube.com/@azadsocial/videos\n",
        "'https://www.youtube.com/watch?v=cg5rJ5Zlw3Q', #- https://www.youtube.com/@ZhoPodcast/videos\n",
        " 'https://www.youtube.com/watch?v=DRMD-Isti9E', #- https://www.youtube.com/@ravcast/videos\n",
        " ]\n",
        "video_sample = [\n",
        "    'https://www.youtube.com/watch?v=GxGKD8HEMg8' #https://www.youtube.com/@saeedvazirabadi\n",
        "    'https://www.youtube.com/watch?v=TMKVl6GZ_nM',#https://www.youtube.com/@RamzShab/videos\n",
        "    'https://www.youtube.com/watch?v=G9zLkgZ19co',#https://www.youtube.com/@3b.bullbear/videos\n",
        "    'https://www.youtube.com/watch?v=itt1HONY2Ps',#https://www.youtube.com/@JabeyeSiyah\n",
        "    'https://www.youtube.com/watch?v=C2zMcIdArU8', #https://www.youtube.com/@MohammadAliTaheriOfficial\n",
        "]\n",
        "video_sample = ['https://www.youtube.com/watch?v=8v46IwVtT0k']#https://www.youtube.com/@MBCPERSIA/videos\n",
        "video_sample = ['https://www.youtube.com/watch?v=PCD9LZh55CM']\n",
        "for channel_video_sample in video_sample:\n",
        "    channel_sample = YouTube(channel_video_sample)\n",
        "    channel_sample.channel_id\n",
        "    videos = scrapetube.get_channel(channel_sample.channel_id)\n",
        "    for video in tqdm(videos):\n",
        "        # if detector.compute_language_confidence(video['title']['runs'][0]['text'], Language.PERSIAN) < 0.3:\n",
        "        #     continue\n",
        "\n",
        "        video_ids.append(video['videoId'])\n",
        "        print(video['videoId'])\n",
        "        print(video['title']['runs'][0]['text'])\n",
        "        print(video['publishedTimeText']['simpleText'])\n",
        "        print('\\r\\n')"
      ],
      "metadata": {
        "id": "-klPmi8oFU5N"
      },
      "execution_count": null,
      "outputs": []
    },
    {
      "cell_type": "code",
      "source": [
        "len(video_ids)"
      ],
      "metadata": {
        "colab": {
          "base_uri": "https://localhost:8080/"
        },
        "id": "VfqOU5uBc4CJ",
        "outputId": "1c29b945-d2a2-4762-c375-eaf19898c21a"
      },
      "execution_count": 13,
      "outputs": [
        {
          "output_type": "execute_result",
          "data": {
            "text/plain": [
              "131"
            ]
          },
          "metadata": {},
          "execution_count": 13
        }
      ]
    },
    {
      "cell_type": "code",
      "source": [],
      "metadata": {
        "colab": {
          "base_uri": "https://localhost:8080/"
        },
        "id": "7dfPGb8Xc9aj",
        "outputId": "a309d4c7-b77e-4c8c-9024-3898e5a85a9f"
      },
      "execution_count": null,
      "outputs": [
        {
          "output_type": "execute_result",
          "data": {
            "text/plain": [
              "0.0"
            ]
          },
          "metadata": {},
          "execution_count": 17
        }
      ]
    },
    {
      "cell_type": "code",
      "source": [
        "from pathlib import Path\n",
        "Path('kaggle/video_ids.txt').write_text(\"\\n\".join(video_ids))"
      ],
      "metadata": {
        "id": "ryXmTt4r3toa",
        "colab": {
          "base_uri": "https://localhost:8080/"
        },
        "outputId": "fa839e6e-8758-49d7-8f97-454a42b0bcab"
      },
      "execution_count": null,
      "outputs": [
        {
          "output_type": "execute_result",
          "data": {
            "text/plain": [
              "60023"
            ]
          },
          "metadata": {},
          "execution_count": 17
        }
      ]
    },
    {
      "cell_type": "code",
      "source": [
        "#use this if you don't want to scrape and just want to use old video_ids data\n",
        "# from pathlib import Path\n",
        "\n",
        "# video_ids=Path('kaggle/video_ids.txt').read_text().split('\\n')"
      ],
      "metadata": {
        "id": "Yv0BmmWyIP0f"
      },
      "execution_count": null,
      "outputs": []
    },
    {
      "cell_type": "code",
      "source": [
        "# from pathlib import Path\n",
        "# import re\n",
        "# my_text=Path('subtitle۴.txt').read_text()\n",
        "# youtube_ids = re.findall(r'v=([a-zA-Z0-9_-]{11})', my_text)\n",
        "# youtube_videos = set(youtube_ids)\n",
        "# print(youtube_videos)\n",
        "# print(len(youtube_videos))"
      ],
      "metadata": {
        "colab": {
          "base_uri": "https://localhost:8080/"
        },
        "id": "s7bF5c4EhY8Q",
        "outputId": "765f4170-090b-40b9-bcbb-b4dc6e9aa7b8"
      },
      "execution_count": null,
      "outputs": [
        {
          "output_type": "stream",
          "name": "stdout",
          "text": [
            "{'i8nt1_SRSA4', 'CiPlnUOAL38', 'LdcDYBnJovU', 'r8qNoxcjg0s', 'lNs0FDPGjso', 'ixLrDqVORS0', 'NzFYVhKtVNE', '7Jmp0o6TmuI', '6ENXTf70bFE', '_awZxKjsfh8', 'XQLgID02OtA', 'wTX0JVRT6es', 'w-INitgIRgU', 'ofghdRcrYhA', 'lagRXXTDoNY', '_O1-VDm4_qE', 'Yc72Rcbi0CU', 'pt5RKLkFl1k', 'rEQRkEkmdug', 'hxXvub96Uno', '8nawOh4ZQFs', '29bPtSTIwi0', 'wnTh0_G0afA', 'TvL4gPQ3wyU', 'Xf5i-Nz64Ok', 'gB1ocqNBto4', '8NxnkMSEYlg', 'eqe5fM_jD4o', 'mpSQk-zMbJM', 'y7FxlFkeBNc', '4SXOD4vd55c', 'hWng2eBvSeY', 'wEt3X2rcURM', 'EHa1gWBAsRY', 'eKbKR6eGOaA', 'GZGJ1IxdPJI', 'rTAwpV130Zc', 'xmDEvd5uym0', '2bq2icNd-qA', 'Cu-M0BbQaVY', 'wLvojcEEUlM', 'orHtW5wrS_E', 'xdO5_Bi9Tx0', 'YQzpbJ6U_h8', 'aYoiZ8205PM', 'HaD0IVjq3cw', 'tFeOTW0Kt9E', 'bysPNT7A_LA', 'woYRt8kUGc4', 'UxGUNSGGUd0', 'RC0F7iBP4T4', 'GYEvti30-gU', '6qr6WOJs7Io', 'gG2vic6BXQ8', '4iHxLiQuOd0', 'fVrNpR0vd54', '8M4l6SxlKyk', 'ImsTZbGTWJI', 'aiXK-PvQF2Y', '6_i_kBv98eo', 'a1fkjPb4ki4', 'FAmmtMAHGOo', 'whZmf3T4L8E', 'Gv8s1OI76cI', 'tkWq_jsEHm8', 'Q-TDE4yGaR0', 'CvupDjhz1nw', 'nFJbSF3vjFQ', 'OWzNLh3GxeQ', 'qWCjJfjrUq4', '4Xy8YrHY-DY', 'cVga2bF3fK8', 'fyvHKG9KvqY', 'QcV0zHIvpGE', 'XlT0gE0p9Co', 'KuNfkVzF33k', 'LNfsbvssvPM', 'guhuNn2pLCw', 'GEhZDlVEP2Y', 'KMeLqOK4TaY', 'T_Xabf7NDFg', '1Qe_K3IXjJE', '3Z9642qLktw', 'yV0dLrwop9E', 'ySW-aK6DTSE', 'sMTZtNxB_5o', 'TxUFRETd3Z8', 'PQbvfOlaEkM', 'dy38wq1gBuM', 'f_O395w2eug', 'Z0co_Mtxm7Y', 'UDm4wnee9P8', 'Oc4cAmN2MdU', 'Nc4Czmt56Vg', 'vPZd-xp0Qkg', 'hctHI9iFrh0', 'cz4qeTQm6_8', '4hBsSVkhoGY', 'XR52dqbwOsg', 'a7NcLDdfIz8', 'C1kVStNhutw', 'szAB2TRSMo4', 'xNA3q-bBOEU', 'l_KmpBIDKs4', '4qUiVDgh7KQ', 'SrmOxHTBRzk', '4KjAVCAQde0', 'ZHDNPd0gsMw', 'uaIKCbaMolM', '9YbTLtcJZws', 'uZUhV5UlxFc', 'NQ5kd6brjZE', 'Utxip2jNyHA', '-HWUgRquNr0', 'qS4XDbPwzFQ', 'j-DA01m0Qig', 'ECKxFiE0SOQ', 'CgNouRpja2M', '1PvyxQHdknI', 'PuQyYjwm-ck', 'D6ba9tkFcUU', 'ZSgnURpQy1c', 'foD5mQM4jmE', '4sgGZ6kh8DI', 'eIvgNLc_3N0', 'kaR6Vue7GHg', 'Pj1Ky7FWfOo', 'QounkbW12EE', 'U9AkIbX6-Vk', 'wIsRqqLnEcQ', 'UA98-4PjVMs', 'ICBlDkqKIcI', 'RNcQQZj-WCY', 'xIMV0Y4AGBk', 'nPuarqqIeRQ', 'uF4hKs0dAeo', 'za6beaIJ5L8', 'A65owAqrGts', 'osGNIZqrGdw', '4WUOS1_iWXo', '5-HMnVOBjbg', 'sCUFcaHDwE0', '9Wg6uWhuGP4', 'sse0kf-7XgQ', 'eLQNf-qdbmY', '6wzR3rcoa2c', 'jFXgL7X3r8U', '7B5J7nQEp0Y', 'DRJYFRfgNmQ', 'i80lwgSuqt4', 'DK5yOXM6Roo', 'B1Pt_442f_E', 'iZumNbY5r_8', 'SXUjUM-Gcc4', 'o2Ay_is_FQU', 'YlWuGe40Cgc', 'iZm0Uh_rl7Q', 'RZTFVEwUddM', 'SV6dgsCDVU0', 'Vr_ximd07ok', 'RRF7-MxLu3A', '6wqH8iAmDYw'}\n",
            "162\n"
          ]
        }
      ]
    },
    {
      "cell_type": "code",
      "source": [
        "import csv\n",
        "import csv\n",
        "from youtube_transcript_api import YouTubeTranscriptApi\n",
        "from pytube import YouTube\n",
        "from pathlib import Path\n",
        "\n",
        "# field names\n",
        "fields = ['video_id','title', 'language', 'language_code', 'is_generated','length (sec)','channel id','channel url', 'subtitle']\n",
        "\n",
        "csv_path = 'kaggle/data.csv'\n",
        "\n",
        "import pandas as pd\n",
        "if Path(csv_path).exists():\n",
        "    current_data = pd.read_csv(csv_path)\n",
        "else:\n",
        "    current_data = None\n",
        "# data rows of csv file\n",
        "rows = []\n",
        "\n",
        "\n",
        "#youtube_videos = ['oa8_Sd7w0q8']\n",
        "for item in video_ids:\n",
        "    if current_data is not None and item in current_data['video_id'].values:\n",
        "        print(f'item {item} already exists')\n",
        "        continue\n",
        "    try:\n",
        "        transcript_list = YouTubeTranscriptApi.list_transcripts(item)\n",
        "        transcript = transcript_list.find_manually_created_transcript(['fa','fa-IR'])\n",
        "        video_transcription=transcript.fetch()\n",
        "\n",
        "        video = YouTube(f'https://www.youtube.com/watch?v={item}')\n",
        "        video.streams.filter(only_audio=True)[0].download(f'kaggle/audios',filename=f'{item}.mp4')\n",
        "\n",
        "        rows.append([transcript.video_id,\n",
        "                     video.title,\n",
        "                     transcript.language,\n",
        "                     transcript.language_code,\n",
        "                     transcript.is_generated,\n",
        "                     video.length,\n",
        "                     video.channel_id,\n",
        "                     video.channel_url,\n",
        "                     video_transcription])\n",
        "        print(f\"Success {item}\")\n",
        "    except Exception as ex:\n",
        "        print(f\"Problem Video {item}\")\n",
        "\n",
        "from pathlib import Path\n",
        "if Path(csv_path).exists():\n",
        "    with open(csv_path, 'a') as f:\n",
        "        write = csv.writer(f)\n",
        "        write.writerows(rows)\n",
        "else:\n",
        "    with open(csv_path, 'w') as f:\n",
        "\n",
        "        # using csv.writer method from CSV package\n",
        "        write = csv.writer(f)\n",
        "\n",
        "        write.writerow(fields)\n",
        "        write.writerows(rows)"
      ],
      "metadata": {
        "id": "zXFURfzIFsZW"
      },
      "execution_count": null,
      "outputs": []
    },
    {
      "cell_type": "code",
      "source": [
        "from pathlib import Path\n",
        "if Path(csv_path).exists():\n",
        "    with open(csv_path, 'a') as f:\n",
        "        write = csv.writer(f)\n",
        "        write.writerows(rows)\n",
        "else:\n",
        "    with open(csv_path, 'w') as f:\n",
        "\n",
        "        # using csv.writer method from CSV package\n",
        "        write = csv.writer(f)\n",
        "\n",
        "        write.writerow(fields)\n",
        "        write.writerows(rows)"
      ],
      "metadata": {
        "id": "k-XunMJI55lO"
      },
      "execution_count": null,
      "outputs": []
    },
    {
      "cell_type": "code",
      "source": [
        "# import os\n",
        "# import shutil\n",
        "\n",
        "# # Define the path to your Audios folder\n",
        "# audios_folder = \"kaggle/audios\"\n",
        "\n",
        "# # Walk through the directory structure\n",
        "# for root, dirs, files in os.walk(audios_folder):\n",
        "#     for file in files:\n",
        "#         if file.endswith(\".mp4\"):\n",
        "#             # Extract video_id from the path\n",
        "#             video_id = os.path.basename(root)\n",
        "#             # Source path of the file\n",
        "#             source_path = os.path.join(root, file)\n",
        "#             # Destination path where you want to move the file\n",
        "#             destination_path = os.path.join(audios_folder, f\"{video_id}.mp4\")\n",
        "#             # Move the file\n",
        "#             shutil.move(source_path, destination_path)"
      ],
      "metadata": {
        "id": "kh1QQAvvB5pW"
      },
      "execution_count": null,
      "outputs": []
    },
    {
      "cell_type": "code",
      "source": [
        "!ls kaggle/audios/ | wc -l"
      ],
      "metadata": {
        "colab": {
          "base_uri": "https://localhost:8080/"
        },
        "id": "G2SYLp1zKlU0",
        "outputId": "0908b80d-3ca4-40c6-a3d8-030621689e95"
      },
      "execution_count": 15,
      "outputs": [
        {
          "output_type": "stream",
          "name": "stdout",
          "text": [
            "776\n"
          ]
        }
      ]
    },
    {
      "cell_type": "code",
      "source": [
        "!find . -name 'MONLMhmtlKU*'"
      ],
      "metadata": {
        "colab": {
          "base_uri": "https://localhost:8080/"
        },
        "id": "fl-Iew-bo5yc",
        "outputId": "6661c2ed-c399-41a6-d20e-5dc255a2066a"
      },
      "execution_count": 22,
      "outputs": [
        {
          "output_type": "stream",
          "name": "stdout",
          "text": [
            "./test/MONLMhmtlKU.mp4\n"
          ]
        }
      ]
    },
    {
      "cell_type": "code",
      "source": [
        "!wc -l kaggle/data.csv"
      ],
      "metadata": {
        "colab": {
          "base_uri": "https://localhost:8080/"
        },
        "id": "jGB_W0kxKqIg",
        "outputId": "fb8fcd1f-9e1f-42f0-c4bb-085511bf7f8b"
      },
      "execution_count": 16,
      "outputs": [
        {
          "output_type": "stream",
          "name": "stdout",
          "text": [
            "866 kaggle/data.csv\n"
          ]
        }
      ]
    },
    {
      "cell_type": "code",
      "source": [
        "!echo '{\"id\": \"amirpourmand/automatic-speech-recognition-farsi-youtube\"}' > kaggle/dataset-metadata.json"
      ],
      "metadata": {
        "id": "olxUx0FwveP_"
      },
      "execution_count": null,
      "outputs": []
    },
    {
      "cell_type": "code",
      "source": [
        "#!cp -r audios/ kaggle\n",
        "#!cp -r audios/ kaggle/"
      ],
      "metadata": {
        "id": "HD0yD65lwSJW"
      },
      "execution_count": null,
      "outputs": []
    },
    {
      "cell_type": "code",
      "source": [
        "# !cp data.csv kaggle/\n",
        "# !cp video_ids.txt kaggle/"
      ],
      "metadata": {
        "id": "8-Pef0PgwV82"
      },
      "execution_count": null,
      "outputs": []
    },
    {
      "cell_type": "code",
      "source": [
        "!du -sh kaggle"
      ],
      "metadata": {
        "colab": {
          "base_uri": "https://localhost:8080/"
        },
        "id": "RAL9PCD0wtLW",
        "outputId": "c58a4d56-fbe5-477d-f9c3-f9eadffad2be"
      },
      "execution_count": null,
      "outputs": [
        {
          "output_type": "stream",
          "name": "stdout",
          "text": [
            "6.8G\tkaggle\n"
          ]
        }
      ]
    },
    {
      "cell_type": "code",
      "source": [
        "!kaggle datasets version -p kaggle/ --dir-mode tar -m \"versin Update\""
      ],
      "metadata": {
        "colab": {
          "base_uri": "https://localhost:8080/"
        },
        "id": "rA3V2ua7wpgu",
        "outputId": "5cd1b524-a784-4d22-81bb-fc9106e5af81"
      },
      "execution_count": null,
      "outputs": [
        {
          "output_type": "stream",
          "name": "stdout",
          "text": [
            "Starting upload for file audios.tar\n",
            "Warning: Looks like you're using an outdated API Version, please consider updating (server 1.6.5 / client 1.5.16)\n",
            "100% 6.68G/6.68G [01:02<00:00, 115MB/s]\n",
            "Upload successful: audios.tar (7GB)\n",
            "Starting upload for file data.csv\n",
            "100% 40.1M/40.1M [00:00<00:00, 55.4MB/s]\n",
            "Upload successful: data.csv (40MB)\n",
            "Starting upload for file video_ids.txt\n",
            "100% 41.6k/41.6k [00:00<00:00, 176kB/s]\n",
            "Upload successful: video_ids.txt (42KB)\n",
            "Dataset version is being created. Please check progress at https://www.kaggle.com/amirpourmand/automatic-speech-recognition-farsi-youtube\n"
          ]
        }
      ]
    },
    {
      "cell_type": "code",
      "source": [
        "!kaggle datasets --help"
      ],
      "metadata": {
        "id": "WwfN-X6Y33Sj",
        "colab": {
          "base_uri": "https://localhost:8080/"
        },
        "outputId": "92edbe97-7e79-439e-e871-0c3f4a59c4f5"
      },
      "execution_count": null,
      "outputs": [
        {
          "output_type": "stream",
          "name": "stdout",
          "text": [
            "usage: kaggle datasets [-h] {list,files,download,create,version,init,metadata,status} ...\n",
            "\n",
            "options:\n",
            "  -h, --help            show this help message and exit\n",
            "\n",
            "commands:\n",
            "  {list,files,download,create,version,init,metadata,status}\n",
            "    list                List available datasets\n",
            "    files               List dataset files\n",
            "    download            Download dataset files\n",
            "    create              Create a new dataset\n",
            "    version             Create a new dataset version\n",
            "    init                Initialize metadata file for dataset creation\n",
            "    metadata            Download metadata about a dataset\n",
            "    status              Get the creation status for a dataset\n"
          ]
        }
      ]
    },
    {
      "cell_type": "code",
      "source": [],
      "metadata": {
        "colab": {
          "base_uri": "https://localhost:8080/",
          "height": 35
        },
        "id": "iL_0ifS6BaEv",
        "outputId": "959e29aa-a9ca-46e6-94e0-8cc7d9175a4a"
      },
      "execution_count": null,
      "outputs": [
        {
          "output_type": "execute_result",
          "data": {
            "text/plain": [
              "'https://www.youtube.com/channel/UCqiPfSQWNJenrTBAVCZVNow'"
            ],
            "application/vnd.google.colaboratory.intrinsic+json": {
              "type": "string"
            }
          },
          "metadata": {},
          "execution_count": 113
        }
      ]
    },
    {
      "cell_type": "code",
      "source": [],
      "metadata": {
        "id": "pqKNZ3AZBdIX"
      },
      "execution_count": null,
      "outputs": []
    }
  ]
}