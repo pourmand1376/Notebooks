{
  "nbformat": 4,
  "nbformat_minor": 0,
  "metadata": {
    "colab": {
      "provenance": [],
      "authorship_tag": "ABX9TyMlj/Zuwg4xaF1Xw7+3WVhZ",
      "include_colab_link": true
    },
    "kernelspec": {
      "name": "python3",
      "display_name": "Python 3"
    },
    "language_info": {
      "name": "python"
    }
  },
  "cells": [
    {
      "cell_type": "markdown",
      "metadata": {
        "id": "view-in-github",
        "colab_type": "text"
      },
      "source": [
        "<a href=\"https://colab.research.google.com/github/pourmand1376/Notebooks/blob/main/DownloadMaziar.ipynb\" target=\"_parent\"><img src=\"https://colab.research.google.com/assets/colab-badge.svg\" alt=\"Open In Colab\"/></a>"
      ]
    },
    {
      "cell_type": "code",
      "source": [
        "pip install pytube"
      ],
      "metadata": {
        "colab": {
          "base_uri": "https://localhost:8080/"
        },
        "id": "G7Z4PclKBsJo",
        "outputId": "4405e15c-57ff-4494-a516-2c4079a48b49"
      },
      "execution_count": 2,
      "outputs": [
        {
          "output_type": "stream",
          "name": "stdout",
          "text": [
            "Looking in indexes: https://pypi.org/simple, https://us-python.pkg.dev/colab-wheels/public/simple/\n",
            "Collecting pytube\n",
            "  Downloading pytube-12.1.2-py3-none-any.whl (57 kB)\n",
            "\u001b[2K     \u001b[90m━━━━━━━━━━━━━━━━━━━━━━━━━━━━━━━━━━━━━━━\u001b[0m \u001b[32m57.0/57.0 KB\u001b[0m \u001b[31m279.3 kB/s\u001b[0m eta \u001b[36m0:00:00\u001b[0m\n",
            "\u001b[?25hInstalling collected packages: pytube\n",
            "Successfully installed pytube-12.1.2\n"
          ]
        }
      ]
    },
    {
      "cell_type": "code",
      "execution_count": 7,
      "metadata": {
        "colab": {
          "base_uri": "https://localhost:8080/"
        },
        "id": "XJSaKw40BoB8",
        "outputId": "4d46dc56-004b-4750-c006-07f8c1e2fb15"
      },
      "outputs": [
        {
          "output_type": "execute_result",
          "data": {
            "text/plain": [
              "10119"
            ]
          },
          "metadata": {},
          "execution_count": 7
        }
      ],
      "source": [
        "## if playlist is very big like maziar\n",
        "from pytube import Playlist\n",
        "import pytube\n",
        "from pathlib import Path\n",
        "playlist = Playlist('https://www.youtube.com/playlist?list=PLoEMreTa9CNmuxQeIKWaz7AVFd_ZeAcy4')\n",
        "\n",
        "Path('all.txt').write_text(\"\\n\".join(playlist))\n",
        "Path('first.txt').write_text(\"\\n\".join(playlist[:150]))\n",
        "Path('second.txt').write_text(\"\\n\".join(playlist[150:300]))\n",
        "Path('third.txt').write_text(\"\\n\".join(playlist[300:-1]))"
      ]
    },
    {
      "cell_type": "code",
      "source": [
        "!mkdir first"
      ],
      "metadata": {
        "id": "CzoFA_raBq4n"
      },
      "execution_count": 8,
      "outputs": []
    },
    {
      "cell_type": "code",
      "source": [
        "cd first"
      ],
      "metadata": {
        "colab": {
          "base_uri": "https://localhost:8080/"
        },
        "id": "-akTK7h6Czmd",
        "outputId": "0f4aec97-30bb-4f37-ac3e-33e7699eb2c0"
      },
      "execution_count": 9,
      "outputs": [
        {
          "output_type": "stream",
          "name": "stdout",
          "text": [
            "/content/first\n"
          ]
        }
      ]
    },
    {
      "cell_type": "code",
      "source": [
        "! for name in $(cat ../first.txt);do pytube $name;done"
      ],
      "metadata": {
        "colab": {
          "base_uri": "https://localhost:8080/"
        },
        "id": "UoPLKgKRC0Oh",
        "outputId": "f28787a5-9a95-4b62-a922-15f0f6337cb1"
      },
      "execution_count": 10,
      "outputs": [
        {
          "output_type": "stream",
          "name": "stdout",
          "text": [
            "Loading video...\n",
            "Fully Convolutional Networks (Q&A)  Lecture 26 (Part 1)  Applied Deep Learning (Supplementary).mp4 | 20 MB\n",
            " ↳ || 100.0%\n",
            "Loading video...\n",
            "DeconvNet for Semantic Segmentation  Lecture 26 (Part 2)  Applied Deep Learning (Supplementary).mp4 | 29 MB\n",
            "Loading video...\n",
            "U-Net  Lecture 30 (Part 2)  Applied Deep Learning.mp4 | 28 MB\n",
            " ↳ || 100.0%\n",
            "Loading video...\n",
            "U-Net (Q&A)  Lecture 26 (Part 3)  Applied Deep Learning (Supplementary).mp4 | 6 MB\n",
            " ↳ || 100.0%\n",
            "Loading video...\n",
            "DeepLab  Lecture 30 (Part 3)  Applied Deep Learning.mp4 | 7 MB\n",
            "^C\n"
          ]
        }
      ]
    },
    {
      "cell_type": "code",
      "source": [],
      "metadata": {
        "id": "y_yYolU8C5iG"
      },
      "execution_count": null,
      "outputs": []
    }
  ]
}